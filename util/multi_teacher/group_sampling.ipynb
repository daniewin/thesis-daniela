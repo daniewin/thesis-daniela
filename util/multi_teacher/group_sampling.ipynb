{
 "cells": [
  {
   "cell_type": "code",
   "execution_count": 19,
   "metadata": {},
   "outputs": [],
   "source": [
    "import random"
   ]
  },
  {
   "cell_type": "code",
   "execution_count": 20,
   "metadata": {},
   "outputs": [
    {
     "name": "stdout",
     "output_type": "stream",
     "text": [
      "20\n"
     ]
    }
   ],
   "source": [
    "anomalies = [\n",
    "    \"bird\",\n",
    "    \"gull\",\n",
    "    \"tern\",\n",
    "    \"shearwater\",\n",
    "    \"pelican\",\n",
    "    \"albatross\",\n",
    "    \"penguin\",\n",
    "    \"oceanic bird\",\n",
    "    \"marine bird\",\n",
    "    \"coastal bird\",\n",
    "    \"fighter jet\",\n",
    "    \"airplane\",\n",
    "    \"balloon\",\n",
    "    \"dolphin\",\n",
    "    \"insect\",\n",
    "    \"whale\",\n",
    "    \"car\",\n",
    "    \"cat\",\n",
    "    \"human\",\n",
    "    \"white crest\"\n",
    "]\n",
    "print(len(anomalies))"
   ]
  },
  {
   "cell_type": "code",
   "execution_count": 21,
   "metadata": {},
   "outputs": [
    {
     "name": "stdout",
     "output_type": "stream",
     "text": [
      "['shearwater', 'bird', 'marine bird', 'oceanic bird', 'car']\n",
      "['pelican', 'shearwater', 'cat', 'tern', 'dolphin']\n",
      "['gull', 'bird', 'tern', 'penguin', 'oceanic bird']\n"
     ]
    }
   ],
   "source": [
    "random.seed(42)\n",
    "for i in range(3):\n",
    "    sample = random.sample(anomalies, 5)\n",
    "    print(sample)"
   ]
  }
 ],
 "metadata": {
  "kernelspec": {
   "display_name": "Python 3 (ipykernel)",
   "language": "python",
   "name": "python3"
  }
 },
 "nbformat": 4,
 "nbformat_minor": 2
}
